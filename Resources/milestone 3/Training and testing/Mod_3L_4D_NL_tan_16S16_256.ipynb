{
 "cells": [
  {
   "cell_type": "code",
   "execution_count": 1,
   "id": "6b533e7f",
   "metadata": {},
   "outputs": [
    {
     "name": "stderr",
     "output_type": "stream",
     "text": [
      "2022-11-01 15:37:17.834362: W tensorflow/stream_executor/platform/default/dso_loader.cc:64] Could not load dynamic library 'libcudart.so.11.0'; dlerror: libcudart.so.11.0: cannot open shared object file: No such file or directory; LD_LIBRARY_PATH: /home/user12/Radio/lib/:\n",
      "2022-11-01 15:37:17.834431: I tensorflow/stream_executor/cuda/cudart_stub.cc:29] Ignore above cudart dlerror if you do not have a GPU set up on your machine.\n"
     ]
    },
    {
     "name": "stdout",
     "output_type": "stream",
     "text": [
      "2.7.0\n"
     ]
    }
   ],
   "source": [
    "import h5py\n",
    "import numpy as np\n",
    "import scipy\n",
    "import itertools\n",
    "from scipy.io import loadmat\n",
    "import matplotlib.pyplot as plt\n",
    "\n",
    "import sklearn\n",
    "from sklearn.metrics import confusion_matrix\n",
    "\n",
    "import pandas as pd\n",
    "import tensorflow as tf\n",
    "print(tf.__version__)\n",
    "\n",
    "from keras.models import Sequential\n",
    "from tensorflow.keras.layers import Reshape, Flatten, Dense, Conv1D ,Conv2D, MaxPooling2D, MaxPooling1D,Dropout\n",
    "from tensorflow.keras.models import Model\n",
    "from tensorflow.keras.optimizers import SGD, Adam, Adamax\n",
    "from tensorflow.keras.preprocessing.text import Tokenizer\n",
    "from tensorflow.keras.preprocessing.sequence import pad_sequences"
   ]
  },
  {
   "cell_type": "code",
   "execution_count": 2,
   "id": "d83866ac",
   "metadata": {},
   "outputs": [],
   "source": [
    "def evaluation_tf(report, y_test, y_pred, classes):\n",
    "    plt.plot(report.history['loss'], label = 'training_loss')\n",
    "    plt.plot(report.history['val_loss'], label = 'validation_loss')\n",
    "    plt.legend()\n",
    "    plt.show()\n",
    "    plt.plot(report.history['accuracy'], label = 'training_accuracy')\n",
    "    plt.plot(report.history['val_accuracy'], label = 'validation_accuracy')\n",
    "    plt.legend()\n",
    "    plt.show()\n",
    "    \n",
    "    cm = confusion_matrix(y_test, y_pred)\n",
    "    plt.figure(figsize=(7,7))\n",
    "    plt.imshow(cm, cmap=plt.cm.Blues)\n",
    "    print(cm.shape[0],cm.shape[1])\n",
    "    for i,j in itertools.product(range(cm.shape[0]), range(cm.shape[1])):\n",
    "        plt.text(j, i, format(cm[i,j], 'd'),\n",
    "                 horizontalalignment = 'center',\n",
    "                 color='black')\n",
    "\n",
    "    plt.xlabel(\"Predicted labels\")\n",
    "    plt.ylabel(\"True labels\")\n",
    "    tick_marks = np.arange(len(classes))\n",
    "    plt.xticks(tick_marks, classes, rotation=45)\n",
    "    plt.yticks(tick_marks, classes)\n",
    "    plt.title('Confusion matrix')\n",
    "    plt.colorbar()\n",
    "    plt.show()"
   ]
  },
  {
   "cell_type": "code",
   "execution_count": 3,
   "id": "bbe7b795",
   "metadata": {},
   "outputs": [
    {
     "name": "stdout",
     "output_type": "stream",
     "text": [
      "Model: \"sequential\"\n",
      "_________________________________________________________________\n",
      " Layer (type)                Output Shape              Param #   \n",
      "=================================================================\n",
      " conv1 (Conv1D)              (None, 256, 32)           288       \n",
      "                                                                 \n",
      " conv2 (Conv1D)              (None, 256, 64)           8256      \n",
      "                                                                 \n",
      " maxpool1 (MaxPooling1D)     (None, 128, 64)           0         \n",
      "                                                                 \n",
      " conv3 (Conv1D)              (None, 128, 128)          65664     \n",
      "                                                                 \n",
      " maxpool2 (MaxPooling1D)     (None, 64, 128)           0         \n",
      "                                                                 \n",
      " flatten (Flatten)           (None, 8192)              0         \n",
      "                                                                 \n",
      " dense (Dense)               (None, 64)                524352    \n",
      "                                                                 \n",
      " dropout (Dropout)           (None, 64)                0         \n",
      "                                                                 \n",
      " dense_1 (Dense)             (None, 7)                 455       \n",
      "                                                                 \n",
      "=================================================================\n",
      "Total params: 599,015\n",
      "Trainable params: 599,015\n",
      "Non-trainable params: 0\n",
      "_________________________________________________________________\n"
     ]
    },
    {
     "name": "stderr",
     "output_type": "stream",
     "text": [
      "2022-11-01 15:38:12.786680: W tensorflow/stream_executor/platform/default/dso_loader.cc:64] Could not load dynamic library 'libcuda.so.1'; dlerror: libcuda.so.1: cannot open shared object file: No such file or directory; LD_LIBRARY_PATH: /home/user12/Radio/lib/:\n",
      "2022-11-01 15:38:12.786736: W tensorflow/stream_executor/cuda/cuda_driver.cc:269] failed call to cuInit: UNKNOWN ERROR (303)\n",
      "2022-11-01 15:38:12.786778: I tensorflow/stream_executor/cuda/cuda_diagnostics.cc:156] kernel driver does not appear to be running on this host (ipt-Precision-7920-Tower): /proc/driver/nvidia/version does not exist\n",
      "2022-11-01 15:38:12.787261: I tensorflow/core/platform/cpu_feature_guard.cc:151] This TensorFlow binary is optimized with oneAPI Deep Neural Network Library (oneDNN) to use the following CPU instructions in performance-critical operations:  AVX2 AVX512F FMA\n",
      "To enable them in other operations, rebuild TensorFlow with the appropriate compiler flags.\n"
     ]
    }
   ],
   "source": [
    "#Now we can go ahead and create our Convolution model\n",
    "model = Sequential()\n",
    "\n",
    "#We want to output 32 features maps. The kernel size is going to be\n",
    "#2x4 and we specify our input shape to be 256,4 \n",
    "#Padding=same means we want the same dimensional output as input\n",
    "#activation specifies the activation function\n",
    "model.add(Conv1D(32, 2, input_shape=(256, 4), padding='same',\n",
    "                       activation='tanh', name=\"conv1\"))\n",
    "\n",
    "# Size --> (256,32)\n",
    "#now we add another convolution layer, again with a 4x4 kernel\n",
    "#This time our padding=valid this means that the output dimension can\n",
    "#take any form\n",
    "model.add(Conv1D(64, 4, activation='relu', padding='same', name=\"conv2\"))\n",
    "\n",
    "# Size --> (256,64)\n",
    "#maxpool with a kernet of 2x2\n",
    "model.add(MaxPooling1D(pool_size=2, name=\"maxpool1\"))\n",
    "\n",
    "# Size --> (128,64)\n",
    "#now we add another convolution layer, again with a 8 kernel\n",
    "#This time our padding=valid this means that the output dimension can\n",
    "#take any form\n",
    "model.add(Conv1D(128, 8, activation='relu', padding='same', name=\"conv3\"))\n",
    "\n",
    "# Size --> (128,128,1)\n",
    "#maxpool with a kernet of 2x2\n",
    "model.add(MaxPooling1D(pool_size=2, name=\"maxpool2\"))\n",
    "\n",
    "# Size --> (32,8,64)\n",
    "\n",
    "#In a convolution NN, we neet to flatten our data before we can\n",
    "#input it into the ouput/dense layer\n",
    "model.add(Flatten())\n",
    "\n",
    "#Dense layer with 1024 hidden units\n",
    "model.add(Dense(64, activation='relu'))\n",
    "\n",
    "#this time we set 25% of the nodes to 0 to minimize overfitting\n",
    "model.add(Dropout(0.25))\n",
    "#Finally the output dense layer with 10 hidden units corresponding to\n",
    "#our 7 classes\n",
    "model.add(Dense(7, activation='softmax'))\n",
    "\n",
    "model.summary()"
   ]
  },
  {
   "cell_type": "code",
   "execution_count": 4,
   "id": "ca864e4c",
   "metadata": {},
   "outputs": [],
   "source": [
    "model.compile(\n",
    "    optimizer='adam',\n",
    "    loss='sparse_categorical_crossentropy',\n",
    "    metrics=['accuracy'])"
   ]
  },
  {
   "cell_type": "code",
   "execution_count": 5,
   "id": "6203ae0f",
   "metadata": {},
   "outputs": [
    {
     "name": "stdout",
     "output_type": "stream",
     "text": [
      "['Data', 'Label']\n"
     ]
    }
   ],
   "source": [
    "filename = \"./processed.h5\"\n",
    "f = h5py.File(filename, 'r')\n",
    "a_group_key = list(f.keys())\n",
    "print (a_group_key)\n"
   ]
  },
  {
   "cell_type": "code",
   "execution_count": 6,
   "id": "a2538581",
   "metadata": {},
   "outputs": [
    {
     "name": "stdout",
     "output_type": "stream",
     "text": [
      "(651001, 256, 4)\n",
      "(651001, 1)\n"
     ]
    }
   ],
   "source": [
    "data = np.array(f[a_group_key[0]])            #(600000, 256, 4)\n",
    "datatype = np.array(f[a_group_key[1]])         #(600000, 1)\n",
    "#SNR = np.array(f[a_group_key[2]])               #(600000, 1)\n",
    "\n",
    "print(data.shape)\n",
    "print(datatype.shape)\n",
    "#print(SNR.shape)"
   ]
  },
  {
   "cell_type": "code",
   "execution_count": 7,
   "id": "70ec67f5",
   "metadata": {},
   "outputs": [
    {
     "name": "stdout",
     "output_type": "stream",
     "text": [
      "<class 'numpy.ndarray'>\n",
      "<class 'numpy.ndarray'>\n",
      "(651001, 256, 4)\n",
      "(651001, 1)\n"
     ]
    }
   ],
   "source": [
    "print(type(data)) \n",
    "print(type(datatype))\n",
    "#print(type(SNR))\n",
    "\n",
    "print(data.shape)\n",
    "print(datatype.shape)\n",
    "#print(SNR.shape)"
   ]
  },
  {
   "cell_type": "code",
   "execution_count": 9,
   "id": "eed79ee2",
   "metadata": {},
   "outputs": [
    {
     "data": {
      "image/png": "[encoded data removed]",
      "text/plain": [
       "<Figure size 432x288 with 1 Axes>"
      ]
     },
     "metadata": {
      "needs_background": "light"
     },
     "output_type": "display_data"
    },
    {
     "name": "stdout",
     "output_type": "stream",
     "text": [
      "[-0.54933614 -0.6067064  -0.657605   -0.70172787 -0.7397728  -0.77110744\n",
      " -0.79529434 -0.8128491  -0.8234771  -0.8268105  -0.8226653  -0.8105401\n",
      " -0.7899166  -0.75992835 -0.7198446  -0.669275   -0.6079611  -0.5363925\n",
      " -0.45481247 -0.36367822 -0.26510584 -0.1605722  -0.05127471  0.06021246\n",
      "  0.17186917  0.28080887  0.383056    0.47660452  0.5593869   0.6286456\n",
      "  0.6824304   0.71864545  0.7365714   0.7359697   0.7156562   0.6763141\n",
      "  0.6183467   0.54150635  0.44871473  0.34272137  0.22532976  0.100754\n",
      " -0.02656041 -0.15293053 -0.27504954 -0.39009207 -0.4942502  -0.58467185\n",
      " -0.65998614 -0.7179983  -0.757872   -0.78068894 -0.787367   -0.77939665\n",
      " -0.75828594 -0.72542953 -0.6838537  -0.6365846  -0.58590597 -0.5354118\n",
      " -0.48863542 -0.44771168 -0.41524735 -0.39352125 -0.38309664 -0.38454127\n",
      " -0.39802772 -0.42223015 -0.45592365 -0.4974879  -0.5437443  -0.59163845\n",
      " -0.6384708  -0.68081754 -0.7156412  -0.7406376  -0.753134   -0.75142246\n",
      " -0.73505485 -0.7022919  -0.6516766  -0.5839829  -0.5000562  -0.40166909\n",
      " -0.2917285  -0.1725174  -0.04784939  0.07857943  0.20443949  0.32473367\n",
      "  0.4350982   0.53371     0.617436    0.68428737  0.73298436  0.76186085\n",
      "  0.77217305  0.7638021   0.73569566  0.69081694  0.63025355  0.5537629\n",
      "  0.46487805  0.36636144  0.26000687  0.14918998  0.03698079 -0.0738765\n",
      " -0.18124306 -0.2835892  -0.37924537 -0.46662962 -0.54401726 -0.6111438\n",
      " -0.6679373  -0.7128159  -0.7465649  -0.77059215 -0.7844743  -0.789394\n",
      " -0.7858219  -0.7731843  -0.75328815 -0.726688   -0.6925154  -0.6515847\n",
      " -0.60435796 -0.5510218  -0.49255404 -0.4295474  -0.3623193  -0.2913094\n",
      " -0.21726263 -0.1409348  -0.06270565  0.01685508  0.09690438  0.17676705\n",
      "  0.2561158   0.3338501   0.40859014  0.48039597  0.54809135  0.6105815\n",
      "  0.66942114  0.72274244  0.76866275  0.8102936   0.846231    0.8738373\n",
      "  0.89561874  0.9102731   0.91669905  0.9180743   0.9125437   0.8984719\n",
      "  0.87838626  0.85075945  0.8133854   0.76738346  0.71355087  0.6522634\n",
      "  0.5834224   0.5071565   0.42479885  0.33678493  0.24392708  0.14855297\n",
      "  0.05217765 -0.04378188 -0.1374553  -0.2276769  -0.31289497 -0.3915554\n",
      " -0.46249968 -0.5235033  -0.57386005 -0.6145516  -0.6439752  -0.6613445\n",
      " -0.66887814 -0.66683    -0.65539765 -0.6366223  -0.6115984  -0.58251303\n",
      " -0.5517646  -0.52014244 -0.49013954 -0.46400934 -0.4424209  -0.4273988\n",
      " -0.42018157 -0.42055508 -0.42897815 -0.44547153 -0.4690672  -0.49817973\n",
      " -0.5312391  -0.56674176 -0.6020675  -0.6346529  -0.6625153  -0.6833932\n",
      " -0.69526    -0.6957223  -0.6829563  -0.65638775 -0.61457986 -0.5569482\n",
      " -0.48427647 -0.39671463 -0.29614452 -0.18541037 -0.06646769  0.05730972\n",
      "  0.18270503  0.30651715  0.42350447  0.53033006  0.6247917   0.7030903\n",
      "  0.7631022   0.80326164  0.8221686   0.8211685   0.7998573   0.7561619\n",
      "  0.691772    0.6092395   0.5099561   0.39670748  0.27301937  0.14294459\n",
      "  0.01126532 -0.11806074 -0.24186209 -0.35682595 -0.45972675 -0.548197\n",
      " -0.6202098  -0.67412484 -0.71033597 -0.7296355  -0.732415   -0.72108096\n",
      " -0.6975999  -0.6628098  -0.62012196 -0.5728663  -0.522971   -0.4741948\n",
      " -0.42992473 -0.39195788 -0.36267582 -0.34402564]\n",
      "[0.]\n"
     ]
    }
   ],
   "source": [
    "#point = 800\n",
    "#plt.plot(data[point,:,0])\n",
    "#plt.plot(data[point,:,1])\n",
    "#plt.plot(data[point,:,2])\n",
    "#plt.plot(data[point,:,3])\n",
    "\n",
    "plt.plot(datatype)\n",
    "\n",
    "plt.show()\n",
    "\n",
    "print(data[point,:,0])\n",
    "print(datatype[point])\n",
    "#print(SNR[point])\n",
    "\n",
    "# 0--BPSK , 2--PSK16, 3--PSK8 ,4--QAM16 , 5--QAM32 , 6--QAM64 , 7--QPSK , \n",
    "# [-4:2:14]"
   ]
  },
  {
   "cell_type": "code",
   "execution_count": 9,
   "id": "36ebfc77",
   "metadata": {},
   "outputs": [],
   "source": [
    "#data = f[a_group_key[0]]              #(600000, 256, 4)\n",
    "#datatype = f[a_group_key[1]]          #(600000, 1)\n",
    "#SNR = f[a_group_key[2]]               #(600000, 1)\n",
    "\n",
    "\n",
    "#print(data.shape)\n",
    "#print(datatype.shape)\n",
    "#print(SNR.shape)\n",
    "\n",
    "# Six different Modulation each with 100000 in length\n",
    "# SNR... 10 bins for each modulation\n",
    "\n",
    "# Result should be list of pair--- (16 symbols packet--- 256, Modulation Scheme (0...5))\n",
    "\n",
    "# Write into pre-processed training data!"
   ]
  },
  {
   "cell_type": "code",
   "execution_count": 10,
   "id": "3ce0f64f",
   "metadata": {},
   "outputs": [],
   "source": [
    "from sklearn.model_selection import train_test_split\n",
    "X_train, X_test, y_train, y_test = train_test_split(data, datatype, test_size = 0.2)"
   ]
  },
  {
   "cell_type": "code",
   "execution_count": 11,
   "id": "ee6b180a",
   "metadata": {},
   "outputs": [
    {
     "name": "stdout",
     "output_type": "stream",
     "text": [
      "(520800, 256, 4)\n",
      "(130201, 256, 4)\n",
      "(520800, 1)\n",
      "(130201, 1)\n"
     ]
    }
   ],
   "source": [
    "print(X_train.shape)\n",
    "print(X_test.shape)\n",
    "print(y_train.shape)\n",
    "print(y_test.shape)\n",
    "                \n",
    "                "
   ]
  },
  {
   "cell_type": "code",
   "execution_count": 12,
   "id": "38c198c3",
   "metadata": {},
   "outputs": [
    {
     "name": "stdout",
     "output_type": "stream",
     "text": [
      "Epoch 1/20\n",
      "16275/16275 [==============================] - 299s 18ms/step - loss: 0.7577 - accuracy: 0.6362 - val_loss: 0.5953 - val_accuracy: 0.7245\n",
      "Epoch 2/20\n",
      "16275/16275 [==============================] - 300s 18ms/step - loss: 0.5966 - accuracy: 0.7393 - val_loss: 0.5413 - val_accuracy: 0.7667\n",
      "Epoch 3/20\n",
      "16275/16275 [==============================] - 295s 18ms/step - loss: 0.5370 - accuracy: 0.7730 - val_loss: 0.4920 - val_accuracy: 0.7936\n",
      "Epoch 4/20\n",
      "16275/16275 [==============================] - 267s 16ms/step - loss: 0.5063 - accuracy: 0.7895 - val_loss: 0.4680 - val_accuracy: 0.8039\n",
      "Epoch 5/20\n",
      "16275/16275 [==============================] - 263s 16ms/step - loss: 0.4832 - accuracy: 0.8011 - val_loss: 0.4612 - val_accuracy: 0.8158\n",
      "Epoch 6/20\n",
      "16275/16275 [==============================] - 260s 16ms/step - loss: 0.4674 - accuracy: 0.8087 - val_loss: 0.4293 - val_accuracy: 0.8297\n",
      "Epoch 7/20\n",
      "16275/16275 [==============================] - 263s 16ms/step - loss: 0.4551 - accuracy: 0.8149 - val_loss: 0.4093 - val_accuracy: 0.8378\n",
      "Epoch 8/20\n",
      "16275/16275 [==============================] - 264s 16ms/step - loss: 0.4445 - accuracy: 0.8196 - val_loss: 0.4173 - val_accuracy: 0.8341\n",
      "Epoch 9/20\n",
      "16275/16275 [==============================] - 265s 16ms/step - loss: 0.4349 - accuracy: 0.8254 - val_loss: 0.4032 - val_accuracy: 0.8434\n",
      "Epoch 10/20\n",
      "16275/16275 [==============================] - 265s 16ms/step - loss: 0.4282 - accuracy: 0.8278 - val_loss: 0.3982 - val_accuracy: 0.8431\n",
      "Epoch 11/20\n",
      "16275/16275 [==============================] - 268s 16ms/step - loss: 0.4218 - accuracy: 0.8316 - val_loss: 0.4087 - val_accuracy: 0.8393\n",
      "Epoch 12/20\n",
      "16275/16275 [==============================] - 268s 16ms/step - loss: 0.4153 - accuracy: 0.8338 - val_loss: 0.4211 - val_accuracy: 0.8400\n",
      "Epoch 13/20\n",
      "16275/16275 [==============================] - 267s 16ms/step - loss: 0.4117 - accuracy: 0.8362 - val_loss: 0.3842 - val_accuracy: 0.8485\n",
      "Epoch 14/20\n",
      "16275/16275 [==============================] - 268s 16ms/step - loss: 0.4066 - accuracy: 0.8377 - val_loss: 0.3883 - val_accuracy: 0.8481\n",
      "Epoch 15/20\n",
      "16275/16275 [==============================] - 268s 16ms/step - loss: 0.4036 - accuracy: 0.8403 - val_loss: 0.3889 - val_accuracy: 0.8475\n",
      "Epoch 16/20\n",
      "16275/16275 [==============================] - 267s 16ms/step - loss: 0.3980 - accuracy: 0.8426 - val_loss: 0.3983 - val_accuracy: 0.8442\n",
      "Epoch 17/20\n",
      "16275/16275 [==============================] - 266s 16ms/step - loss: 0.3967 - accuracy: 0.8432 - val_loss: 0.3794 - val_accuracy: 0.8503\n",
      "Epoch 18/20\n",
      "16275/16275 [==============================] - 267s 16ms/step - loss: 0.3939 - accuracy: 0.8449 - val_loss: 0.3791 - val_accuracy: 0.8536\n",
      "Epoch 19/20\n",
      "16275/16275 [==============================] - 267s 16ms/step - loss: 0.3899 - accuracy: 0.8471 - val_loss: 0.3750 - val_accuracy: 0.8539\n",
      "Epoch 20/20\n",
      "16275/16275 [==============================] - 267s 16ms/step - loss: 0.3877 - accuracy: 0.8481 - val_loss: 0.3919 - val_accuracy: 0.8532\n"
     ]
    }
   ],
   "source": [
    "report = model.fit(X_train, y_train, epochs = 20, validation_data=(X_test, y_test))"
   ]
  },
  {
   "cell_type": "code",
   "execution_count": 13,
   "id": "2c4bf03b",
   "metadata": {},
   "outputs": [],
   "source": [
    "model.save('Mod_3L_4D_NL_tan_16S16_256.h5')"
   ]
  },
  {
   "cell_type": "code",
   "execution_count": 14,
   "id": "19f48080",
   "metadata": {},
   "outputs": [],
   "source": [
    "y_pred = model.predict(X_test).argmax(axis = 1)"
   ]
  },
  {
   "cell_type": "code",
   "execution_count": 15,
   "id": "ce655879",
   "metadata": {},
   "outputs": [
    {
     "data": {
      "image/png": "[encoded data removed]",
      "text/plain": [
       "<Figure size 432x288 with 1 Axes>"
      ]
     },
     "metadata": {
      "needs_background": "light"
     },
     "output_type": "display_data"
    },
    {
     "data": {
      "image/png": "[encoded data removed]",
      "text/plain": [
       "<Figure size 432x288 with 1 Axes>"
      ]
     },
     "metadata": {
      "needs_background": "light"
     },
     "output_type": "display_data"
    },
    {
     "name": "stdout",
     "output_type": "stream",
     "text": [
      "7 7\n"
     ]
    },
    {
     "data": {
      "image/png": "[encoded data removed]",
      "text/plain": [
       "<Figure size 504x504 with 2 Axes>"
      ]
     },
     "metadata": {
      "needs_background": "light"
     },
     "output_type": "display_data"
    }
   ],
   "source": [
    "# 0--BPSK , 1--QPSK , 2--PSK8 , 3--PSK16, 4--QAM16 , 5--QAM32\n",
    "Y = ['BPSK' , 'PSK16', 'PSK8' ,'QAM16' , 'QAM32' , 'QAM64' , 'QPSK']\n",
    "evaluation_tf(report, y_test, y_pred, Y)"
   ]
  }
 ],
 "metadata": {
  "kernelspec": {
   "display_name": "Python 3 (ipykernel)",
   "language": "python",
   "name": "python3"
  },
  "language_info": {
   "codemirror_mode": {
    "name": "ipython",
    "version": 3
   },
   "file_extension": ".py",
   "mimetype": "text/x-python",
   "name": "python",
   "nbconvert_exporter": "python",
   "pygments_lexer": "ipython3",
   "version": "3.9.7"
  }
 },
 "nbformat": 4,
 "nbformat_minor": 5
}
