{
 "cells": [
  {
   "cell_type": "code",
   "execution_count": 1,
   "id": "6b533e7f",
   "metadata": {},
   "outputs": [
    {
     "name": "stderr",
     "output_type": "stream",
     "text": [
      "2022-11-01 18:14:56.121728: W tensorflow/stream_executor/platform/default/dso_loader.cc:64] Could not load dynamic library 'libcudart.so.11.0'; dlerror: libcudart.so.11.0: cannot open shared object file: No such file or directory; LD_LIBRARY_PATH: /home/user12/Radio/lib/:\n",
      "2022-11-01 18:14:56.121759: I tensorflow/stream_executor/cuda/cudart_stub.cc:29] Ignore above cudart dlerror if you do not have a GPU set up on your machine.\n"
     ]
    },
    {
     "name": "stdout",
     "output_type": "stream",
     "text": [
      "2.7.0\n"
     ]
    }
   ],
   "source": [
    "import h5py\n",
    "import numpy as np\n",
    "import scipy\n",
    "import itertools\n",
    "from scipy.io import loadmat\n",
    "import matplotlib.pyplot as plt\n",
    "\n",
    "import sklearn\n",
    "from sklearn.metrics import confusion_matrix\n",
    "\n",
    "import pandas as pd\n",
    "import tensorflow as tf\n",
    "print(tf.__version__)\n",
    "\n",
    "from keras.models import Sequential\n",
    "from tensorflow.keras.layers import Reshape, Flatten, Dense, Conv1D ,Conv2D, MaxPooling2D, MaxPooling1D,Dropout\n",
    "from tensorflow.keras.models import Model\n",
    "from tensorflow.keras.optimizers import SGD, Adam, Adamax\n",
    "from tensorflow.keras.preprocessing.text import Tokenizer\n",
    "from tensorflow.keras.preprocessing.sequence import pad_sequences"
   ]
  },
  {
   "cell_type": "code",
   "execution_count": 2,
   "id": "d83866ac",
   "metadata": {},
   "outputs": [],
   "source": [
    "def evaluation_tf(report, y_test, y_pred, classes):\n",
    "    plt.plot(report.history['loss'], label = 'training_loss')\n",
    "    plt.plot(report.history['val_loss'], label = 'validation_loss')\n",
    "    plt.legend()\n",
    "    plt.show()\n",
    "    plt.plot(report.history['accuracy'], label = 'training_accuracy')\n",
    "    plt.plot(report.history['val_accuracy'], label = 'validation_accuracy')\n",
    "    plt.legend()\n",
    "    plt.show()\n",
    "    \n",
    "    cm = confusion_matrix(y_test, y_pred)\n",
    "    plt.figure(figsize=(7,7))\n",
    "    plt.imshow(cm, cmap=plt.cm.Blues)\n",
    "    print(cm.shape[0],cm.shape[1])\n",
    "    for i,j in itertools.product(range(cm.shape[0]), range(cm.shape[1])):\n",
    "        plt.text(j, i, format(cm[i,j], 'd'),\n",
    "                 horizontalalignment = 'center',\n",
    "                 color='black')\n",
    "\n",
    "    plt.xlabel(\"Predicted labels\")\n",
    "    plt.ylabel(\"True labels\")\n",
    "    tick_marks = np.arange(len(classes))\n",
    "    plt.xticks(tick_marks, classes, rotation=45)\n",
    "    plt.yticks(tick_marks, classes)\n",
    "    plt.title('Confusion matrix')\n",
    "    plt.colorbar()\n",
    "    plt.show()"
   ]
  },
  {
   "cell_type": "code",
   "execution_count": 3,
   "id": "bbe7b795",
   "metadata": {},
   "outputs": [
    {
     "name": "stdout",
     "output_type": "stream",
     "text": [
      "Model: \"sequential\"\n",
      "_________________________________________________________________\n",
      " Layer (type)                Output Shape              Param #   \n",
      "=================================================================\n",
      " conv1 (Conv1D)              (None, 512, 32)           288       \n",
      "                                                                 \n",
      " conv2 (Conv1D)              (None, 512, 64)           8256      \n",
      "                                                                 \n",
      " maxpool1 (MaxPooling1D)     (None, 256, 64)           0         \n",
      "                                                                 \n",
      " conv3 (Conv1D)              (None, 256, 96)           49248     \n",
      "                                                                 \n",
      " maxpool2 (MaxPooling1D)     (None, 128, 96)           0         \n",
      "                                                                 \n",
      " conv4 (Conv1D)              (None, 128, 128)          147584    \n",
      "                                                                 \n",
      " flatten (Flatten)           (None, 16384)             0         \n",
      "                                                                 \n",
      " dense (Dense)               (None, 128)               2097280   \n",
      "                                                                 \n",
      " dropout (Dropout)           (None, 128)               0         \n",
      "                                                                 \n",
      " dense_1 (Dense)             (None, 64)                8256      \n",
      "                                                                 \n",
      " dropout_1 (Dropout)         (None, 64)                0         \n",
      "                                                                 \n",
      " dense_2 (Dense)             (None, 6)                 390       \n",
      "                                                                 \n",
      "=================================================================\n",
      "Total params: 2,311,302\n",
      "Trainable params: 2,311,302\n",
      "Non-trainable params: 0\n",
      "_________________________________________________________________\n"
     ]
    },
    {
     "name": "stderr",
     "output_type": "stream",
     "text": [
      "2022-11-01 18:14:57.316054: W tensorflow/stream_executor/platform/default/dso_loader.cc:64] Could not load dynamic library 'libcuda.so.1'; dlerror: libcuda.so.1: cannot open shared object file: No such file or directory; LD_LIBRARY_PATH: /home/user12/Radio/lib/:\n",
      "2022-11-01 18:14:57.316092: W tensorflow/stream_executor/cuda/cuda_driver.cc:269] failed call to cuInit: UNKNOWN ERROR (303)\n",
      "2022-11-01 18:14:57.316118: I tensorflow/stream_executor/cuda/cuda_diagnostics.cc:156] kernel driver does not appear to be running on this host (ipt-Precision-7920-Tower): /proc/driver/nvidia/version does not exist\n",
      "2022-11-01 18:14:57.316380: I tensorflow/core/platform/cpu_feature_guard.cc:151] This TensorFlow binary is optimized with oneAPI Deep Neural Network Library (oneDNN) to use the following CPU instructions in performance-critical operations:  AVX2 AVX512F FMA\n",
      "To enable them in other operations, rebuild TensorFlow with the appropriate compiler flags.\n"
     ]
    }
   ],
   "source": [
    "#Now we can go ahead and create our Convolution model\n",
    "model = Sequential()\n",
    "\n",
    "#We want to output 32 features maps. The kernel size is going to be\n",
    "#2x4 and we specify our input shape to be 256,4 \n",
    "#Padding=same means we want the same dimensional output as input\n",
    "#activation specifies the activation function\n",
    "model.add(Conv1D(32, 2, input_shape=(512, 4), padding='same',\n",
    "                       activation='tanh', name=\"conv1\"))\n",
    "\n",
    "# Size --> (256,32)\n",
    "#now we add another convolution layer, again with a 4x4 kernel\n",
    "#This time our padding=valid this means that the output dimension can\n",
    "#take any form\n",
    "model.add(Conv1D(64, 4, activation='relu', padding='same', name=\"conv2\"))\n",
    "\n",
    "# Size --> (256,64)\n",
    "#maxpool with a kernet of 2x2\n",
    "model.add(MaxPooling1D(pool_size=2, name=\"maxpool1\"))\n",
    "\n",
    "# Size --> (128,64)\n",
    "#now we add another convolution layer, again with a 8 kernel\n",
    "#This time our padding=valid this means that the output dimension can\n",
    "#take any form\n",
    "model.add(Conv1D(96, 8, activation='relu', padding='same', name=\"conv3\"))\n",
    "\n",
    "# Size --> (128,128,1)\n",
    "#maxpool with a kernet of 2x2\n",
    "model.add(MaxPooling1D(pool_size=2, name=\"maxpool2\"))\n",
    "\n",
    "# Size --> (32,8,64)\n",
    "model.add(Conv1D(128, 12, activation='relu', padding='same', name=\"conv4\"))\n",
    "\n",
    "\n",
    "\n",
    "#In a convolution NN, we neet to flatten our data before we can\n",
    "#input it into the ouput/dense layer\n",
    "model.add(Flatten())\n",
    "\n",
    "#Dense layer with 1024 hidden units\n",
    "model.add(Dense(128, activation='relu'))\n",
    "\n",
    "#this time we set 25% of the nodes to 0 to minimize overfitting\n",
    "model.add(Dropout(0.1))\n",
    "\n",
    "#Dense layer with 1024 hidden units\n",
    "model.add(Dense(64, activation='relu'))\n",
    "\n",
    "model.add(Dropout(0.1))\n",
    "#Finally the output dense layer with 10 hidden units corresponding to\n",
    "#our 7 classes\n",
    "model.add(Dense(6, activation='softmax'))\n",
    "\n",
    "model.summary()"
   ]
  },
  {
   "cell_type": "code",
   "execution_count": 4,
   "id": "ca864e4c",
   "metadata": {},
   "outputs": [],
   "source": [
    "model.compile(\n",
    "    optimizer='adam',\n",
    "    loss='sparse_categorical_crossentropy',\n",
    "    metrics=['accuracy'])"
   ]
  },
  {
   "cell_type": "code",
   "execution_count": 5,
   "id": "6203ae0f",
   "metadata": {},
   "outputs": [
    {
     "name": "stdout",
     "output_type": "stream",
     "text": [
      "['Data', 'Label']\n"
     ]
    }
   ],
   "source": [
    "filename = \"./processed1.h5\"\n",
    "f = h5py.File(filename, 'r')\n",
    "a_group_key = list(f.keys())\n",
    "print (a_group_key)\n"
   ]
  },
  {
   "cell_type": "code",
   "execution_count": 6,
   "id": "a2538581",
   "metadata": {},
   "outputs": [
    {
     "name": "stdout",
     "output_type": "stream",
     "text": [
      "(318001, 512, 4)\n",
      "(318001, 1)\n"
     ]
    }
   ],
   "source": [
    "data = np.array(f[a_group_key[0]])            #(600000, 256, 4)\n",
    "datatype = np.array(f[a_group_key[1]])         #(600000, 1)\n",
    "#SNR = np.array(f[a_group_key[2]])               #(600000, 1)\n",
    "\n",
    "print(data.shape)\n",
    "print(datatype.shape)\n",
    "#print(SNR.shape)"
   ]
  },
  {
   "cell_type": "code",
   "execution_count": 7,
   "id": "70ec67f5",
   "metadata": {},
   "outputs": [
    {
     "name": "stdout",
     "output_type": "stream",
     "text": [
      "<class 'numpy.ndarray'>\n",
      "<class 'numpy.ndarray'>\n",
      "(318001, 512, 4)\n",
      "(318001, 1)\n"
     ]
    }
   ],
   "source": [
    "print(type(data)) \n",
    "print(type(datatype))\n",
    "#print(type(SNR))\n",
    "\n",
    "print(data.shape)\n",
    "print(datatype.shape)\n",
    "#print(SNR.shape)"
   ]
  },
  {
   "cell_type": "code",
   "execution_count": 8,
   "id": "eed79ee2",
   "metadata": {},
   "outputs": [
    {
     "data": {
      "image/png": "[encoded data removed]",
      "text/plain": [
       "<Figure size 432x288 with 1 Axes>"
      ]
     },
     "metadata": {
      "needs_background": "light"
     },
     "output_type": "display_data"
    }
   ],
   "source": [
    "#point = 800\n",
    "#plt.plot(data[point,:,0])\n",
    "#plt.plot(data[point,:,1])\n",
    "#plt.plot(data[point,:,2])\n",
    "#plt.plot(data[point,:,3])\n",
    "\n",
    "plt.plot(datatype)\n",
    "\n",
    "plt.show()\n",
    "\n",
    "#print(data[point,:,0])\n",
    "#print(datatype[point])\n",
    "#print(SNR[point])\n",
    "\n",
    "# 0--BPSK , 2--PSK16, 3--PSK8 ,4--QAM16 , 5--QAM32 , 6--QPSK , \n",
    "# [-4:2:14]"
   ]
  },
  {
   "cell_type": "code",
   "execution_count": 9,
   "id": "36ebfc77",
   "metadata": {},
   "outputs": [],
   "source": [
    "#data = f[a_group_key[0]]              #(600000, 256, 4)\n",
    "#datatype = f[a_group_key[1]]          #(600000, 1)\n",
    "#SNR = f[a_group_key[2]]               #(600000, 1)\n",
    "\n",
    "\n",
    "#print(data.shape)\n",
    "#print(datatype.shape)\n",
    "#print(SNR.shape)\n",
    "\n",
    "# Six different Modulation each with 100000 in length\n",
    "# SNR... 10 bins for each modulation\n",
    "\n",
    "# Result should be list of pair--- (16 symbols packet--- 256, Modulation Scheme (0...5))\n",
    "\n",
    "# Write into pre-processed training data!"
   ]
  },
  {
   "cell_type": "code",
   "execution_count": 10,
   "id": "3ce0f64f",
   "metadata": {},
   "outputs": [],
   "source": [
    "from sklearn.model_selection import train_test_split\n",
    "X_train, X_test, y_train, y_test = train_test_split(data, datatype, test_size = 0.2)"
   ]
  },
  {
   "cell_type": "code",
   "execution_count": 11,
   "id": "ee6b180a",
   "metadata": {},
   "outputs": [
    {
     "name": "stdout",
     "output_type": "stream",
     "text": [
      "(254400, 512, 4)\n",
      "(63601, 512, 4)\n",
      "(254400, 1)\n",
      "(63601, 1)\n"
     ]
    }
   ],
   "source": [
    "print(X_train.shape)\n",
    "print(X_test.shape)\n",
    "print(y_train.shape)\n",
    "print(y_test.shape)\n",
    "                \n",
    "                "
   ]
  },
  {
   "cell_type": "code",
   "execution_count": 12,
   "id": "38c198c3",
   "metadata": {},
   "outputs": [
    {
     "name": "stdout",
     "output_type": "stream",
     "text": [
      "Epoch 1/10\n",
      "7950/7950 [==============================] - 283s 36ms/step - loss: 0.3890 - accuracy: 0.8238 - val_loss: 0.1973 - val_accuracy: 0.9272\n",
      "Epoch 2/10\n",
      "7950/7950 [==============================] - 275s 35ms/step - loss: 0.1803 - accuracy: 0.9355 - val_loss: 0.1522 - val_accuracy: 0.9456\n",
      "Epoch 3/10\n",
      "7950/7950 [==============================] - 286s 36ms/step - loss: 0.1375 - accuracy: 0.9534 - val_loss: 0.1342 - val_accuracy: 0.9535\n",
      "Epoch 4/10\n",
      "7950/7950 [==============================] - 301s 38ms/step - loss: 0.1207 - accuracy: 0.9594 - val_loss: 0.1492 - val_accuracy: 0.9495\n",
      "Epoch 5/10\n",
      "7950/7950 [==============================] - 323s 41ms/step - loss: 0.1109 - accuracy: 0.9634 - val_loss: 0.1536 - val_accuracy: 0.9559\n",
      "Epoch 6/10\n",
      "7950/7950 [==============================] - 334s 42ms/step - loss: 0.0996 - accuracy: 0.9673 - val_loss: 0.1041 - val_accuracy: 0.9680\n",
      "Epoch 7/10\n",
      "7950/7950 [==============================] - 348s 44ms/step - loss: 0.0970 - accuracy: 0.9688 - val_loss: 0.1068 - val_accuracy: 0.9663\n",
      "Epoch 8/10\n",
      "7950/7950 [==============================] - 357s 45ms/step - loss: 0.0912 - accuracy: 0.9706 - val_loss: 0.1067 - val_accuracy: 0.9692\n",
      "Epoch 9/10\n",
      "7950/7950 [==============================] - 354s 44ms/step - loss: 0.0833 - accuracy: 0.9736 - val_loss: 0.1474 - val_accuracy: 0.9541\n",
      "Epoch 10/10\n",
      "7950/7950 [==============================] - 365s 46ms/step - loss: 0.0845 - accuracy: 0.9739 - val_loss: 0.1466 - val_accuracy: 0.9640\n"
     ]
    }
   ],
   "source": [
    "report = model.fit(X_train, y_train, epochs = 10, validation_data=(X_test, y_test))"
   ]
  },
  {
   "cell_type": "code",
   "execution_count": 13,
   "id": "2c4bf03b",
   "metadata": {},
   "outputs": [],
   "source": [
    "model.save('Mod_3L_4D_NL_tan_16S16_1024_1.h5')"
   ]
  },
  {
   "cell_type": "code",
   "execution_count": 14,
   "id": "19f48080",
   "metadata": {},
   "outputs": [],
   "source": [
    "y_pred = model.predict(X_test).argmax(axis = 1)"
   ]
  },
  {
   "cell_type": "code",
   "execution_count": 15,
   "id": "ce655879",
   "metadata": {},
   "outputs": [
    {
     "data": {
      "image/png": "[encoded data removed]",
      "text/plain": [
       "<Figure size 432x288 with 1 Axes>"
      ]
     },
     "metadata": {
      "needs_background": "light"
     },
     "output_type": "display_data"
    },
    {
     "data": {
      "image/png": "[encoded data removed]",
      "text/plain": [
       "<Figure size 432x288 with 1 Axes>"
      ]
     },
     "metadata": {
      "needs_background": "light"
     },
     "output_type": "display_data"
    },
    {
     "name": "stdout",
     "output_type": "stream",
     "text": [
      "6 6\n"
     ]
    },
    {
     "data": {
      "image/png": "[encoded data removed]",
      "text/plain": [
       "<Figure size 504x504 with 2 Axes>"
      ]
     },
     "metadata": {
      "needs_background": "light"
     },
     "output_type": "display_data"
    }
   ],
   "source": [
    "# 0--BPSK , 2--PSK16, 3--PSK8 ,4--QAM16 , 5--QAM32 , 6--QPSK ,\n",
    "Y = ['BPSK','PSK16','PSK8','QAM16','QAM32', 'QPSK']\n",
    "evaluation_tf(report, y_test, y_pred, Y)"
   ]
  }
 ],
 "metadata": {
  "kernelspec": {
   "display_name": "Python 3 (ipykernel)",
   "language": "python",
   "name": "python3"
  },
  "language_info": {
   "codemirror_mode": {
    "name": "ipython",
    "version": 3
   },
   "file_extension": ".py",
   "mimetype": "text/x-python",
   "name": "python",
   "nbconvert_exporter": "python",
   "pygments_lexer": "ipython3",
   "version": "3.9.7"
  }
 },
 "nbformat": 4,
 "nbformat_minor": 5
}
