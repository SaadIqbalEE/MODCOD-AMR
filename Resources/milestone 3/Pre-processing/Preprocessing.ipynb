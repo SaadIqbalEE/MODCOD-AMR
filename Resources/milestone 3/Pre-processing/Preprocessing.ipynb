{
 "cells": [
  {
   "cell_type": "code",
   "execution_count": 1,
   "id": "afbedd70",
   "metadata": {},
   "outputs": [],
   "source": [
    "import os\n",
    "import h5py\n",
    "import numpy as np\n",
    "import scipy\n",
    "import matplotlib.pyplot as plt\n"
   ]
  },
  {
   "cell_type": "code",
   "execution_count": 2,
   "id": "aa52f71f",
   "metadata": {},
   "outputs": [
    {
     "name": "stdout",
     "output_type": "stream",
     "text": [
      "['BPSK_772022_PC_0.hdf5', 'PSK16_772022_PC_0.hdf5', 'PSK8_772022_PC_0.hdf5', 'QAM16_772022_PC_0.hdf5', 'QAM32_772022_PC_0.hdf5', 'QAM64_772022_PC_0.hdf5', 'QPSK_772022_PC_0.hdf5']\n"
     ]
    }
   ],
   "source": [
    "raw_files = sorted(os.listdir(\"./Z_Data/\"))\n",
    "print(raw_files)"
   ]
  },
  {
   "cell_type": "code",
   "execution_count": 3,
   "id": "fa9a34b2",
   "metadata": {},
   "outputs": [
    {
     "name": "stdout",
     "output_type": "stream",
     "text": [
      "['BPSK_', 'PSK16', 'PSK8_', 'QAM16', 'QAM32', 'QAM64', 'QPSK_']\n"
     ]
    }
   ],
   "source": [
    "classes = set()\n",
    "for i in range(len(raw_files)):\n",
    "    classes.add(raw_files[i][:5])\n",
    "labels = sorted(list(classes))\n",
    "print(labels)"
   ]
  },
  {
   "cell_type": "code",
   "execution_count": 5,
   "id": "b3f11096",
   "metadata": {},
   "outputs": [
    {
     "name": "stdout",
     "output_type": "stream",
     "text": [
      "(1, 256, 4)\n",
      "[[0. 0. 0. 0.]\n",
      " [0. 0. 0. 0.]\n",
      " [0. 0. 0. 0.]\n",
      " ...\n",
      " [0. 0. 0. 0.]\n",
      " [0. 0. 0. 0.]\n",
      " [0. 0. 0. 0.]]\n",
      "(1, 1)\n",
      "[0.]\n"
     ]
    }
   ],
   "source": [
    "with h5py.File('./processed.h5', 'w') as hf:\n",
    "    data = hf.create_dataset(\"Data\", (1,256, 4), maxshape=(None,256, 4))\n",
    "    label = hf.create_dataset(\"Label\", (1,1), maxshape=(None,1))\n",
    "    data[0,:] = np.zeros((256,4), dtype=float)\n",
    "    label[0] = np.zeros((1), dtype=float)\n",
    "    print (data.shape)\n",
    "    print (data[0,:,:])\n",
    "    \n",
    "    print (label.shape)\n",
    "    print (label[0])"
   ]
  },
  {
   "cell_type": "code",
   "execution_count": 6,
   "id": "23c53a63",
   "metadata": {},
   "outputs": [
    {
     "name": "stdout",
     "output_type": "stream",
     "text": [
      "34\n"
     ]
    }
   ],
   "source": [
    "# random generation between 128 --- 384\n",
    "print(np.random.randint(0,100))"
   ]
  },
  {
   "cell_type": "code",
   "execution_count": 7,
   "id": "5cdc11cd",
   "metadata": {},
   "outputs": [
    {
     "name": "stdout",
     "output_type": "stream",
     "text": [
      "BPSK_772022_PC_0.hdf5 data 24000000\n",
      "(24000000,) (24000000,) (24000000,) (24000000,)\n",
      "PSK16_772022_PC_0.hdf5 data 24000366\n",
      "(24000366,) (24000366,) (24000366,) (24000366,)\n",
      "PSK8_772022_PC_0.hdf5 data 24000188\n",
      "(24000188,) (24000188,) (24000188,) (24000188,)\n",
      "QAM16_772022_PC_0.hdf5 data 24000292\n",
      "(24000292,) (24000292,) (24000292,) (24000292,)\n",
      "QAM32_772022_PC_0.hdf5 data 24000189\n",
      "(24000189,) (24000189,) (24000189,) (24000189,)\n",
      "QAM64_772022_PC_0.hdf5 data 23999898\n",
      "(23999898,) (23999898,) (23999898,) (23999898,)\n",
      "QPSK_772022_PC_0.hdf5 data 23999822\n",
      "(23999822,) (23999822,) (23999822,) (23999822,)\n"
     ]
    }
   ],
   "source": [
    "for i in range(len(raw_files)):\n",
    "    with h5py.File('./Z_Data/'+raw_files[i], 'r') as hf:\n",
    "        a_group_key = list(hf.keys())\n",
    "        data = np.array(hf[a_group_key[-1]])            \n",
    "        print(raw_files[i],a_group_key[-1], len(data))    \n",
    "        I_data = np.real(data[:])\n",
    "        Q_data = np.imag(data[:])\n",
    "        M_data = np.abs(data[:])\n",
    "        P_data = np.angle(data[:])\n",
    "        pointer = 5000\n",
    "        print(I_data.shape,Q_data.shape,M_data.shape,P_data.shape)\n",
    "        \n",
    "        #internal loop#\n",
    "        sub_sections = 1000\n",
    "        switch = True\n",
    "        \n",
    "        while (switch):\n",
    "            out = np.zeros((sub_sections,256,4), dtype=float)\n",
    "            for j in range(sub_sections):\n",
    "                if pointer+256 < len(data):\n",
    "                    out[j,:,0] = I_data[pointer:pointer+256]\n",
    "                    out[j,:,1] = Q_data[pointer:pointer+256]\n",
    "                    out[j,:,2] = M_data[pointer:pointer+256]\n",
    "                    out[j,:,3] = P_data[pointer:pointer+256]\n",
    "                    pointer += np.random.randint(128,384)\n",
    "                else:\n",
    "                    switch =False\n",
    "                    break\n",
    "            if (switch):\n",
    "                label = np.ones((sub_sections,1), dtype=float)*labels.index(raw_files[i][:5])\n",
    "\n",
    "                with h5py.File('./processed.h5', 'a') as hf0:\n",
    "                    hf0[\"Data\"].resize(hf0[\"Data\"].shape[0]+sub_sections, axis = 0)\n",
    "                    hf0[\"Data\"][-sub_sections:,:,:] = out\n",
    "\n",
    "                    hf0[\"Label\"].resize(hf0[\"Label\"].shape[0]+sub_sections, axis = 0)\n",
    "                    hf0[\"Label\"][-sub_sections:] = label    \n"
   ]
  },
  {
   "cell_type": "code",
   "execution_count": null,
   "id": "3d642be2",
   "metadata": {},
   "outputs": [],
   "source": [
    "with h5py.File('./processed.h5', 'r') as hf:\n",
    "    a_group_key = list(hf.keys())\n",
    "    data = hf[a_group_key[0]]\n",
    "    label = hf[a_group_key[1]]      \n",
    "\n",
    "    print(a_group_key)\n",
    "    print(data.shape, label.shape)\n",
    "    "
   ]
  }
 ],
 "metadata": {
  "kernelspec": {
   "display_name": "Python 3 (ipykernel)",
   "language": "python",
   "name": "python3"
  },
  "language_info": {
   "codemirror_mode": {
    "name": "ipython",
    "version": 3
   },
   "file_extension": ".py",
   "mimetype": "text/x-python",
   "name": "python",
   "nbconvert_exporter": "python",
   "pygments_lexer": "ipython3",
   "version": "3.9.7"
  }
 },
 "nbformat": 4,
 "nbformat_minor": 5
}
