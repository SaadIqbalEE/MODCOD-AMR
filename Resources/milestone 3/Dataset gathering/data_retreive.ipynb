{
 "cells": [
  {
   "cell_type": "code",
   "execution_count": 1,
   "id": "38bb47e7",
   "metadata": {},
   "outputs": [],
   "source": [
    "#!/usr/bin/python3\n",
    "# -*- coding: utf-8 -*-\n",
    "\n",
    "# zmq_SUB_proc.py\n",
    "# Author: Marc Lichtman\n",
    "\n",
    "import zmq\n",
    "import numpy as np\n",
    "import time\n",
    "import matplotlib.pyplot as plt\n",
    "\n",
    "context = zmq.Context()\n",
    "socket = context.socket(zmq.SUB)\n",
    "socket.connect(\"tcp://127.0.0.1:55555\") # connect, not bind, the PUB will bind, only 1 can bind\n",
    "socket.setsockopt(zmq.SUBSCRIBE, b'') # subscribe to topic of all (needed or else it won't work)\n",
    "t0 = time.time()\n",
    "\n",
    "dataset = []\n",
    "\n",
    "while time.time() < t0 + 600:\n",
    "    if socket.poll(10) != 0: # check if there is a message on the socket\n",
    "        msg = socket.recv() # grab the message\n",
    "        #print(len(msg)) # size of msg\n",
    "        dataset.append(np.frombuffer(msg, dtype=np.complex64, count=-1)) # make sure to use correct data type (complex64 or float32); '-1' means read all data in the buffer\n",
    "        #print(data.size)\n",
    "        \n",
    "        # plt.plot(np.real(data))\n",
    "        # plt.plot(np.imag(data))\n",
    "        # plt.show()\n",
    "    else:\n",
    "        time.sleep(0.001) # wait 1ms and try again"
   ]
  },
  {
   "cell_type": "code",
   "execution_count": 2,
   "id": "85061200",
   "metadata": {},
   "outputs": [],
   "source": [
    "True_data = []\n",
    "for i in range(len(dataset)):\n",
    "    for j in range(len(dataset[i])):\n",
    "        True_data.append(dataset[i][j])"
   ]
  },
  {
   "cell_type": "code",
   "execution_count": 3,
   "id": "569cba4a",
   "metadata": {},
   "outputs": [
    {
     "name": "stdout",
     "output_type": "stream",
     "text": [
      "23999898\n"
     ]
    }
   ],
   "source": [
    "print(len(True_data))\n",
    "#True_data[0]"
   ]
  },
  {
   "cell_type": "code",
   "execution_count": 4,
   "id": "b7a976b3",
   "metadata": {},
   "outputs": [],
   "source": [
    "#plt.plot(True_data[1024:2048])\n",
    "#plt.show()"
   ]
  },
  {
   "cell_type": "code",
   "execution_count": 5,
   "id": "cc112d7e",
   "metadata": {},
   "outputs": [],
   "source": [
    "import h5py\n",
    "f = h5py.File(\"QAM64_772022_PC_0.hdf5\", \"w\")\n",
    "f.create_dataset(\"data\", data=True_data)\n",
    "f.close()"
   ]
  }
 ],
 "metadata": {
  "kernelspec": {
   "display_name": "Python 3 (ipykernel)",
   "language": "python",
   "name": "python3"
  },
  "language_info": {
   "codemirror_mode": {
    "name": "ipython",
    "version": 3
   },
   "file_extension": ".py",
   "mimetype": "text/x-python",
   "name": "python",
   "nbconvert_exporter": "python",
   "pygments_lexer": "ipython3",
   "version": "3.9.7"
  }
 },
 "nbformat": 4,
 "nbformat_minor": 5
}
